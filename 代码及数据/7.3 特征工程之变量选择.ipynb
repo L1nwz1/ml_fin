{
 "cells": [
  {
   "cell_type": "markdown",
   "id": "de6635af",
   "metadata": {},
   "source": [
    "# 变量选择\n",
    "在本案例中，我们使用winsored的房价数据，来进行变量选择演示"
   ]
  },
  {
   "cell_type": "code",
   "execution_count": null,
   "id": "974f7aec",
   "metadata": {},
   "outputs": [],
   "source": [
    "import pandas as pd\n",
    "from matplotlib import pyplot as plt\n",
    "import numpy as np"
   ]
  },
  {
   "cell_type": "code",
   "execution_count": null,
   "id": "917d35e4",
   "metadata": {},
   "outputs": [],
   "source": [
    "dataset = pd.read_csv('california_housing.csv')\n",
    "feature_names = ['MedInc', 'HouseAge', 'AveRooms', 'AveBedrms', 'Population', 'AveOccup', 'Latitude', 'Longitude']\n"
   ]
  },
  {
   "cell_type": "code",
   "execution_count": null,
   "id": "f33f329c",
   "metadata": {},
   "outputs": [],
   "source": [
    "feature_mapping = {\n",
    "    \"MedInc\": \"Median income in block in $1,000\",\n",
    "    \"HouseAge\": \"Median house age in block\",\n",
    "    \"AveRooms\": \"Average number of rooms\",\n",
    "    \"AveBedrms\": \"Average number of bedrooms\",\n",
    "    \"Population\": \"Block population\",\n",
    "    \"AveOccup\": \"Average house occupancy\",\n",
    "    \"Latitude\": \"House block latitude\",\n",
    "    \"Longitude\": \"House block longitude\",\n",
    "    \"y\":\"Median House Price in $100,000\"\n",
    "}"
   ]
  },
  {
   "cell_type": "code",
   "execution_count": null,
   "id": "a21b4ca9",
   "metadata": {},
   "outputs": [],
   "source": [
    "dataset.describe()"
   ]
  },
  {
   "cell_type": "code",
   "execution_count": null,
   "id": "6bd93578",
   "metadata": {},
   "outputs": [],
   "source": [
    "dataset['AveOccup'].quantile(0.01)"
   ]
  },
  {
   "cell_type": "code",
   "execution_count": null,
   "id": "497ef225",
   "metadata": {},
   "outputs": [],
   "source": [
    "dataset['AveOccup'].quantile(0.99)"
   ]
  },
  {
   "cell_type": "code",
   "execution_count": null,
   "id": "6d66f0fa",
   "metadata": {},
   "outputs": [],
   "source": [
    "dataset_win =dataset[dataset['AveOccup']<dataset['AveOccup'].quantile(0.99)][dataset['AveOccup']>dataset['AveOccup'].quantile(0.01)]\n"
   ]
  },
  {
   "cell_type": "code",
   "execution_count": null,
   "id": "e6c97c3b",
   "metadata": {},
   "outputs": [],
   "source": [
    "dataset_win = dataset_win.reset_index(drop=True)\n",
    "dataset_win.describe()"
   ]
  },
  {
   "cell_type": "code",
   "execution_count": null,
   "id": "5eca3562",
   "metadata": {},
   "outputs": [],
   "source": [
    "X_full = dataset_win[feature_names].values\n",
    "y_full = dataset_win['y'].values"
   ]
  },
  {
   "cell_type": "markdown",
   "id": "c0b549bd",
   "metadata": {},
   "source": [
    "# 1.单变量选择"
   ]
  },
  {
   "cell_type": "markdown",
   "id": "f780f1d9",
   "metadata": {},
   "source": [
    "## 1.1 方差选择"
   ]
  },
  {
   "cell_type": "code",
   "execution_count": null,
   "id": "c41277c7",
   "metadata": {},
   "outputs": [],
   "source": [
    "from sklearn.feature_selection import VarianceThreshold\n",
    "\n",
    "X_sel_var = VarianceThreshold(threshold=(1)).fit_transform(X_full)\n"
   ]
  },
  {
   "cell_type": "code",
   "execution_count": null,
   "id": "85f97ac2",
   "metadata": {},
   "outputs": [],
   "source": [
    "X_sel_var.shape"
   ]
  },
  {
   "cell_type": "markdown",
   "id": "b318780a",
   "metadata": {},
   "source": [
    "## 1.2 评分选择"
   ]
  },
  {
   "cell_type": "code",
   "execution_count": null,
   "id": "02e76110",
   "metadata": {},
   "outputs": [],
   "source": [
    "from sklearn.feature_selection import SelectKBest\n",
    "from sklearn.feature_selection import r_regression\n",
    "uni_kbest = SelectKBest(r_regression, k=4)\n",
    "X_sel_uniscore =uni_kbest.fit_transform(X_full, y_full)"
   ]
  },
  {
   "cell_type": "code",
   "execution_count": null,
   "id": "cf08bd16",
   "metadata": {},
   "outputs": [],
   "source": [
    "X_sel_uniscore.shape"
   ]
  },
  {
   "cell_type": "code",
   "execution_count": null,
   "id": "53dd2146",
   "metadata": {},
   "outputs": [],
   "source": [
    "for i in range(len(feature_names)):\n",
    "    print(feature_names[i],uni_kbest.scores_[i])"
   ]
  },
  {
   "cell_type": "markdown",
   "id": "70fbafdc",
   "metadata": {},
   "source": [
    "## 1.3 标准化数据"
   ]
  },
  {
   "cell_type": "code",
   "execution_count": null,
   "id": "795c44d5",
   "metadata": {
    "scrolled": true
   },
   "outputs": [],
   "source": [
    "for ki in feature_names:\n",
    "    print(ki)\n",
    "    dataset_win[ki].hist()\n",
    "    plt.show()"
   ]
  },
  {
   "cell_type": "code",
   "execution_count": null,
   "id": "ac98ced6",
   "metadata": {},
   "outputs": [],
   "source": [
    "from sklearn.preprocessing import StandardScaler\n",
    "X = StandardScaler().fit_transform(X_full)"
   ]
  },
  {
   "cell_type": "code",
   "execution_count": null,
   "id": "4dbf9d71",
   "metadata": {},
   "outputs": [],
   "source": [
    "pd.DataFrame(X).describe()"
   ]
  },
  {
   "cell_type": "markdown",
   "id": "0557ce80",
   "metadata": {},
   "source": [
    "# 2. 基于模型选择"
   ]
  },
  {
   "cell_type": "markdown",
   "id": "4f9de65e",
   "metadata": {},
   "source": [
    "## 2.1 Rigde的结果  "
   ]
  },
  {
   "cell_type": "code",
   "execution_count": null,
   "id": "73f411b5",
   "metadata": {},
   "outputs": [],
   "source": [
    "from sklearn.linear_model import RidgeCV\n",
    "plt.figure(figsize=(12,8))\n",
    "\n",
    "ridge = RidgeCV(alphas=np.logspace(-6, 6, num=5)).fit(X, y_full)\n",
    "importance = np.abs(ridge.coef_)\n",
    "feature_names = np.array(feature_names)\n",
    "plt.bar(height=importance, x=feature_names)\n",
    "plt.title(\"Feature importances via Ridge\")\n",
    "plt.show()"
   ]
  },
  {
   "cell_type": "code",
   "execution_count": null,
   "id": "8e491662",
   "metadata": {},
   "outputs": [],
   "source": [
    "from sklearn.feature_selection import SelectFromModel\n",
    "threshold = np.sort(importance)[-5] + 0.01\n",
    "\n",
    "sfm = SelectFromModel(ridge, threshold=threshold).fit(X, y_full)\n",
    "print(f\"Features selected by SelectFromModel: {feature_names[sfm.get_support()]}\")"
   ]
  },
  {
   "cell_type": "markdown",
   "id": "17cd3062",
   "metadata": {},
   "source": [
    "## 2.2线性删除"
   ]
  },
  {
   "cell_type": "code",
   "execution_count": null,
   "id": "b744dae0",
   "metadata": {},
   "outputs": [],
   "source": [
    "from sklearn.feature_selection import SequentialFeatureSelector\n",
    "from time import time\n",
    "tic_fwd = time()\n",
    "sfs_forward = SequentialFeatureSelector(\n",
    "    ridge, n_features_to_select=5, direction=\"forward\"\n",
    ").fit(X, y_full)\n",
    "toc_fwd = time()\n",
    "\n",
    "tic_bwd = time()\n",
    "sfs_backward = SequentialFeatureSelector(\n",
    "    ridge, n_features_to_select=5, direction=\"backward\"\n",
    ").fit(X, y_full)\n",
    "toc_bwd = time()\n",
    "\n",
    "print(\n",
    "    \"Features selected by forward sequential selection: \"\n",
    "    f\"{feature_names[sfs_forward.get_support()]}\"\n",
    ")\n",
    "print(f\"Done in {toc_fwd - tic_fwd:.3f}s\")\n",
    "print(\n",
    "    \"Features selected by backward sequential selection: \"\n",
    "    f\"{feature_names[sfs_backward.get_support()]}\"\n",
    ")\n",
    "print(f\"Done in {toc_bwd - tic_bwd:.3f}s\")"
   ]
  },
  {
   "cell_type": "markdown",
   "id": "b6886789",
   "metadata": {},
   "source": [
    "## 2.3使用随机森林回归"
   ]
  },
  {
   "cell_type": "code",
   "execution_count": null,
   "id": "a45802db",
   "metadata": {},
   "outputs": [],
   "source": [
    "from sklearn.ensemble import RandomForestRegressor\n",
    "plt.figure(figsize=(12,8))\n",
    "\n",
    "RF = RandomForestRegressor(min_samples_leaf=20).fit(X, y_full)\n",
    "importance = np.abs(RF.feature_importances_)\n",
    "feature_names = np.array(feature_names)\n",
    "plt.bar(height=importance, x=feature_names)\n",
    "plt.title(\"Feature importances via RandomForest\")\n",
    "plt.show()"
   ]
  },
  {
   "cell_type": "code",
   "execution_count": null,
   "id": "9bd26b70",
   "metadata": {},
   "outputs": [],
   "source": []
  }
 ],
 "metadata": {
  "kernelspec": {
   "display_name": "Python 3 (ipykernel)",
   "language": "python",
   "name": "python3"
  },
  "language_info": {
   "codemirror_mode": {
    "name": "ipython",
    "version": 3
   },
   "file_extension": ".py",
   "mimetype": "text/x-python",
   "name": "python",
   "nbconvert_exporter": "python",
   "pygments_lexer": "ipython3",
   "version": "3.11.5"
  }
 },
 "nbformat": 4,
 "nbformat_minor": 5
}
