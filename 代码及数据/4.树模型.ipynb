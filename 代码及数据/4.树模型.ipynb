{
 "cells": [
  {
   "cell_type": "markdown",
   "id": "803fe240",
   "metadata": {},
   "source": [
    "# 4.决策树"
   ]
  },
  {
   "cell_type": "markdown",
   "id": "b427231f",
   "metadata": {},
   "source": [
    "## 4. 1数据生成"
   ]
  },
  {
   "cell_type": "code",
   "execution_count": null,
   "id": "7fd9b234",
   "metadata": {},
   "outputs": [],
   "source": [
    "import matplotlib.pyplot as plt\n",
    "import numpy as np\n"
   ]
  },
  {
   "cell_type": "code",
   "execution_count": null,
   "id": "73b3aca1",
   "metadata": {},
   "outputs": [],
   "source": [
    "# Create a random dataset X为2维，100个\n",
    "rng = np.random.RandomState(1)\n",
    "X = 10*rng.rand(100,2)\n",
    "# 注意y_val受到x[0],x[1]的影响\n",
    "y_val = np.dot(X,[1.5,1])"
   ]
  },
  {
   "cell_type": "code",
   "execution_count": null,
   "id": "531acb9d",
   "metadata": {},
   "outputs": [],
   "source": [
    "y_val.mean()"
   ]
  },
  {
   "cell_type": "code",
   "execution_count": null,
   "id": "f5140cbb",
   "metadata": {},
   "outputs": [],
   "source": [
    "y = np.zeros(100)\n",
    "y[y_val>y_val.mean()] = 1\n",
    "#y最终是一个分类标签，但是来自于y_val，来确定y收到x[0] x[1]的影响\n",
    "y = y.astype(int)\n",
    "y[::20] = 1-y[::20] \n",
    "#加入一些噪音，加了几个？咋加的？"
   ]
  },
  {
   "cell_type": "code",
   "execution_count": null,
   "id": "47890738",
   "metadata": {},
   "outputs": [],
   "source": [
    "plt.figure(figsize=(6,6))\n",
    "plt.scatter(X[y>0.5, 0], X[y>0.5, 1], c='red')\n",
    "plt.scatter(X[y<0.5, 0], X[y<0.5, 1], c='blue')\n",
    "#画一下"
   ]
  },
  {
   "cell_type": "markdown",
   "id": "10250404",
   "metadata": {},
   "source": [
    "## 4.2 决策树分类"
   ]
  },
  {
   "cell_type": "code",
   "execution_count": null,
   "id": "21ac5120",
   "metadata": {},
   "outputs": [],
   "source": [
    "from sklearn.tree import DecisionTreeClassifier\n",
    "#导入决策树的类"
   ]
  },
  {
   "cell_type": "code",
   "execution_count": null,
   "id": "711bac39",
   "metadata": {},
   "outputs": [],
   "source": [
    "DTC = DecisionTreeClassifier()\n",
    "#新建一个决策树\n",
    "DTC.fit(X,y)\n",
    "#训练这个决策树"
   ]
  },
  {
   "cell_type": "code",
   "execution_count": null,
   "id": "435be9b6",
   "metadata": {},
   "outputs": [],
   "source": [
    "from sklearn.inspection import DecisionBoundaryDisplay\n",
    "#导入决策树绘图，导入出错的建议更新版本，更新方式建议直接重装anaconda"
   ]
  },
  {
   "cell_type": "code",
   "execution_count": null,
   "id": "5265778c",
   "metadata": {},
   "outputs": [],
   "source": [
    "\n",
    "DecisionBoundaryDisplay.from_estimator(\n",
    "        DTC,\n",
    "        X,\n",
    "        response_method=\"predict\",\n",
    "        alpha=0.5, \n",
    "        cmap=plt.cm.coolwarm  #决定颜色\n",
    "    )\n",
    "plt.scatter(X[y>0.5, 0], X[y>0.5, 1], c='red')  \n",
    "plt.scatter(X[y<0.5, 0], X[y<0.5, 1], c='blue')\n",
    "\n",
    "#画一个决策树，之后补上散点图"
   ]
  },
  {
   "cell_type": "code",
   "execution_count": null,
   "id": "6f0521cb",
   "metadata": {},
   "outputs": [],
   "source": [
    "DC_1 = DecisionTreeClassifier(max_depth=1).fit(X,y)\n",
    "#限制最大深度为1\n",
    "\n",
    "DecisionBoundaryDisplay.from_estimator(\n",
    "        DC_1,\n",
    "        X,\n",
    "        response_method=\"predict\",\n",
    "        alpha=0.5, \n",
    "        cmap=plt.cm.coolwarm\n",
    "    )\n",
    "plt.scatter(X[y>0.5, 0], X[y>0.5, 1], c='red')\n",
    "plt.scatter(X[y<0.5, 0], X[y<0.5, 1], c='blue')"
   ]
  },
  {
   "cell_type": "code",
   "execution_count": null,
   "id": "5ae0a7a3",
   "metadata": {},
   "outputs": [],
   "source": [
    "from sklearn.tree import plot_tree\n",
    "#导入决策树画图类\n",
    "\n",
    "plt.figure(figsize=(8,8))\n",
    "plot_tree(DC_1, filled=True)\n",
    "plt.title(\"Decision tree-1\")\n",
    "plt.show()"
   ]
  },
  {
   "cell_type": "code",
   "execution_count": null,
   "id": "6029991c",
   "metadata": {},
   "outputs": [],
   "source": [
    "DC_2 = DecisionTreeClassifier(max_depth=2).fit(X,y)\n",
    "plt.figure(figsize=(25, 12))\n",
    "DecisionBoundaryDisplay.from_estimator(\n",
    "        DC_2,\n",
    "        X,\n",
    "        response_method=\"predict\",\n",
    "        alpha=0.5, \n",
    "        cmap=plt.cm.coolwarm\n",
    "    )\n",
    "plt.scatter(X[y>0.5, 0], X[y>0.5, 1], c='red')\n",
    "plt.scatter(X[y<0.5, 0], X[y<0.5, 1], c='blue')\n",
    "plt.show()"
   ]
  },
  {
   "cell_type": "code",
   "execution_count": null,
   "id": "f5a574c6",
   "metadata": {},
   "outputs": [],
   "source": [
    "plt.figure(figsize=(8,8))\n",
    "plot_tree(DC_2, filled=True)\n",
    "plt.title(\"Decision tree-2\")\n",
    "plt.show()"
   ]
  },
  {
   "cell_type": "markdown",
   "id": "d32891a2",
   "metadata": {},
   "source": [
    "## 4.3 决策树回归"
   ]
  },
  {
   "cell_type": "code",
   "execution_count": null,
   "id": "e4673497",
   "metadata": {},
   "outputs": [],
   "source": [
    "rng = np.random.RandomState(1)\n",
    "X = np.sort(5 * rng.rand(120, 1), axis=0)\n",
    "y = np.sin(X).ravel()\n",
    "y[::5] += 3 * (0.5 - rng.rand(24))\n",
    "#生成数据，120个点，在sin(x)基础上加入噪音"
   ]
  },
  {
   "cell_type": "code",
   "execution_count": null,
   "id": "3b4aa050",
   "metadata": {},
   "outputs": [],
   "source": [
    "plt.figure(figsize=(12,8))\n",
    "plt.scatter(X, y, s=20,  c=\"red\", label=\"data\")\n",
    "plt.savefig('raw_pois.png')\n",
    "plt.show()\n",
    "#打印出来看看"
   ]
  },
  {
   "cell_type": "code",
   "execution_count": null,
   "id": "985b3582",
   "metadata": {},
   "outputs": [],
   "source": [
    "from sklearn.tree import DecisionTreeRegressor\n",
    "#导入用于回归的决策树"
   ]
  },
  {
   "cell_type": "code",
   "execution_count": null,
   "id": "02bfe3c6",
   "metadata": {},
   "outputs": [],
   "source": [
    "dtrs = []\n",
    "dtrs_mae = []\n",
    "for dep in range(1,8):\n",
    "    treg = DecisionTreeRegressor(max_depth=dep)\n",
    "    treg.fit(X, y)\n",
    "    dtrs.append(treg)\n",
    "    #尝试1-8不同深度的树，将模型保存在一个list中\n",
    "    \n",
    "    treg_mae = DecisionTreeRegressor(max_depth=dep,criterion='absolute_error')\n",
    "    treg_mae.fit(X, y)\n",
    "    dtrs_mae.append(treg_mae)\n",
    "    #尝试1-8不同深度的树，并把loss改为MAE，将模型保存在一个list中"
   ]
  },
  {
   "cell_type": "code",
   "execution_count": null,
   "id": "978466f7",
   "metadata": {
    "scrolled": false
   },
   "outputs": [],
   "source": [
    "for dep in range(1,8):\n",
    "    plt.figure(figsize=(12,8))\n",
    "    plt.scatter(X, y, s=20,  c=\"red\", label=\"data\")\n",
    "    #画出原始数据\n",
    "    X_test = np.arange(0.0, 5.0, 0.01)[:, np.newaxis]\n",
    "    yt = dtrs[dep-1].predict(X_test)\n",
    "    #按照稠密点，画出测试值，注意这里的画图方式，需要稠密test\n",
    "    \n",
    "    plt.plot(X_test, yt, color=\"cornflowerblue\",  linewidth=2)\n",
    "    plt.xlabel(\"data\")\n",
    "    plt.ylabel(\"target\")\n",
    "    plt.title(\"Decision Tree Regression Max_depth=\"+str(dep))\n",
    "    \n",
    "    plt.savefig('DT_reg_'+str(dep)+'.png')\n",
    "    #保存图片\n",
    "    plt.show()\n",
    "    "
   ]
  },
  {
   "cell_type": "markdown",
   "id": "f89b31d4",
   "metadata": {},
   "source": [
    "## 4.4 高维空间回归"
   ]
  },
  {
   "cell_type": "code",
   "execution_count": null,
   "id": "a93010be",
   "metadata": {},
   "outputs": [],
   "source": [
    "rng = np.random.RandomState(1)\n",
    "X_5 = 10*rng.rand(500,5)\n",
    "X_20 = 10*rng.rand(500,20)\n",
    "X_50 = 10*rng.rand(500,50)"
   ]
  },
  {
   "cell_type": "code",
   "execution_count": null,
   "id": "acfa1e27",
   "metadata": {},
   "outputs": [],
   "source": [
    "weight_l = []\n",
    "for li in range(50):\n",
    "    weight_l.append(0.95**li)\n",
    "weight_l\n",
    "#定义一个收缩的权重list"
   ]
  },
  {
   "cell_type": "code",
   "execution_count": null,
   "id": "833a5a8e",
   "metadata": {},
   "outputs": [],
   "source": [
    "y_5 = np.dot(X_5,weight_l[:5])\n",
    "y_20 = np.dot(X_20,weight_l[:20])\n",
    "y_50 = np.dot(X_50,weight_l[:50])\n",
    "#生成5维 20维 50维 加总"
   ]
  },
  {
   "cell_type": "code",
   "execution_count": null,
   "id": "acd04238",
   "metadata": {},
   "outputs": [],
   "source": [
    "y_5[::5] +=0.5*y_5.mean()*(0.5-rng.rand(100))\n",
    "y_20[::5] +=0.5*y_20.mean()*(0.5-rng.rand(100))\n",
    "y_50[::5] +=0.5*y_50.mean()*(0.5-rng.rand(100))\n",
    "#加入一些噪音"
   ]
  },
  {
   "cell_type": "code",
   "execution_count": null,
   "id": "5b0911d5",
   "metadata": {},
   "outputs": [],
   "source": [
    "train_sp = 400\n",
    "#一共500条数据，我们使用前400条作为训练，后100作为测试"
   ]
  },
  {
   "cell_type": "code",
   "execution_count": null,
   "id": "69567e76",
   "metadata": {},
   "outputs": [],
   "source": [
    "dt_regs_5 = []\n",
    "dt_regs_20 = []\n",
    "dt_regs_50 = []\n",
    "for dpi in range(2,100):\n",
    "    dt_reg_5 = DecisionTreeRegressor(max_leaf_nodes=dpi)\n",
    "    #定义模型\n",
    "    dt_reg_5.fit(X_5[:train_sp],y_5[:train_sp])\n",
    "    #训练模型\n",
    "    dt_regs_5.append(dt_reg_5)\n",
    "    #把模型保存到list中\n",
    "    \n",
    "    dt_reg_20 = DecisionTreeRegressor(max_leaf_nodes=dpi)\n",
    "    dt_reg_20.fit(X_20[:train_sp],y_20[:train_sp])\n",
    "    dt_regs_20.append(dt_reg_20)\n",
    "    \n",
    "    dt_reg_50 = DecisionTreeRegressor(max_leaf_nodes=dpi)\n",
    "    dt_reg_50.fit(X_50[:train_sp],y_50[:train_sp])\n",
    "    dt_regs_50.append(dt_reg_50)"
   ]
  },
  {
   "cell_type": "code",
   "execution_count": null,
   "id": "3a9e9aab",
   "metadata": {},
   "outputs": [],
   "source": [
    "tr_scores_5 = [clf.score(X_5[:train_sp],y_5[:train_sp]) for clf in dt_regs_5]\n",
    "#样本内误差\n",
    "test_scores_5 = [clf.score(X_5[train_sp:],y_5[train_sp:]) for clf in dt_regs_5]\n",
    "#样本外误差\n",
    "tr_scores_20 = [clf.score(X_20[:train_sp],y_20[:train_sp]) for clf in dt_regs_20]\n",
    "test_scores_20 = [clf.score(X_20[train_sp:],y_20[train_sp:]) for clf in dt_regs_20]\n",
    "\n",
    "tr_scores_50 = [clf.score(X_50[:train_sp],y_50[:train_sp]) for clf in dt_regs_50]\n",
    "test_scores_50 = [clf.score(X_50[train_sp:],y_50[train_sp:]) for clf in dt_regs_50]"
   ]
  },
  {
   "cell_type": "code",
   "execution_count": null,
   "id": "64ba182c",
   "metadata": {},
   "outputs": [],
   "source": [
    "len(test_scores_50)"
   ]
  },
  {
   "cell_type": "code",
   "execution_count": null,
   "id": "799beeb4",
   "metadata": {},
   "outputs": [],
   "source": [
    "nodes = list(range(2,100))"
   ]
  },
  {
   "cell_type": "code",
   "execution_count": null,
   "id": "b236116b",
   "metadata": {},
   "outputs": [],
   "source": [
    "import pandas as pd\n",
    "scores = {'v5_train':tr_scores_5,'v5_test':test_scores_5,'v20_train':tr_scores_20,'v20_test':test_scores_20,'v50_train':tr_scores_50,'v50_test':test_scores_50}\n",
    "sc_df = pd.DataFrame(scores,index=nodes)\n",
    "\n"
   ]
  },
  {
   "cell_type": "code",
   "execution_count": null,
   "id": "88b3efee",
   "metadata": {},
   "outputs": [],
   "source": [
    "sc_df.plot(figsize=(14,10))\n",
    "plt.xlabel('number of Leafs')\n",
    "plt.ylabel('accurate');\n",
    "#画图"
   ]
  }
 ],
 "metadata": {
  "kernelspec": {
   "display_name": "Python 3 (ipykernel)",
   "language": "python",
   "name": "python3"
  },
  "language_info": {
   "codemirror_mode": {
    "name": "ipython",
    "version": 3
   },
   "file_extension": ".py",
   "mimetype": "text/x-python",
   "name": "python",
   "nbconvert_exporter": "python",
   "pygments_lexer": "ipython3",
   "version": "3.11.5"
  }
 },
 "nbformat": 4,
 "nbformat_minor": 5
}
