{
 "cells": [
  {
   "cell_type": "markdown",
   "id": "34c2d622",
   "metadata": {},
   "source": [
    "# 2.线性模型"
   ]
  },
  {
   "cell_type": "markdown",
   "id": "7b7b0ec4",
   "metadata": {},
   "source": [
    "## 2.1 线性拟合"
   ]
  },
  {
   "cell_type": "code",
   "execution_count": null,
   "id": "7530df1b",
   "metadata": {},
   "outputs": [],
   "source": [
    "import matplotlib.pyplot as plt\n",
    "import numpy as np\n",
    "import pandas as pd"
   ]
  },
  {
   "cell_type": "code",
   "execution_count": null,
   "id": "7482192b",
   "metadata": {},
   "outputs": [],
   "source": [
    "rng = np.random.RandomState(1)\n",
    "Xraw = np.sort(4 * rng.rand(60), axis=0)\n",
    "yraw = [0.8*float(x)+0.5 for x in Xraw]\n",
    "y = yraw + 1*(0.5 - rng.rand(60))\n",
    "y[::5] += 3 * (0.5 - rng.rand(12))\n",
    "#生成数据，60个点，在一次函数基础上加入噪音"
   ]
  },
  {
   "cell_type": "code",
   "execution_count": null,
   "id": "8d3a226f",
   "metadata": {},
   "outputs": [],
   "source": [
    "plt.figure(figsize=(12,8))\n",
    "plt.scatter(Xraw, y, s=20,  c=\"red\", label=\"data\")\n",
    "plt.plot(Xraw, yraw, color=\"gold\",  linewidth=4)\n",
    "plt.savefig('2.1_data_gen.png')\n",
    "plt.show()\n",
    "#打印出来看看"
   ]
  },
  {
   "cell_type": "code",
   "execution_count": null,
   "id": "a8351a06",
   "metadata": {},
   "outputs": [],
   "source": [
    "plt.figure(figsize=(12,8))\n",
    "plt.scatter(Xraw, y, s=20,  c=\"red\", label=\"data\")\n",
    "#plt.plot(Xraw, yraw, color=\"black\",  linewidth=2)\n",
    "plt.savefig('2.2_data.png')\n",
    "plt.show()\n",
    "#打印出来看看"
   ]
  },
  {
   "cell_type": "code",
   "execution_count": null,
   "id": "e50ef8ee",
   "metadata": {},
   "outputs": [],
   "source": [
    "from sklearn import linear_model"
   ]
  },
  {
   "cell_type": "code",
   "execution_count": null,
   "id": "8b5ccafe",
   "metadata": {},
   "outputs": [],
   "source": [
    "reg = linear_model.LinearRegression()\n",
    "reg.fit(Xraw[:, np.newaxis],y)\n",
    "\n",
    "X_plot = np.arange(0.0, 4.0, 0.01)[:, np.newaxis]\n",
    "yt = reg.predict(X_plot)\n",
    "\n",
    "plt.figure(figsize=(12,8))\n",
    "plt.scatter(Xraw, y, s=20,  c=\"red\", label=\"data\")\n",
    "plt.plot(X_plot, yt, color=\"blue\",  linewidth=4)\n",
    "#plt.plot(Xraw, yraw, color=\"black\",  linewidth=2)\n",
    "\n",
    "yp = reg.predict(Xraw[:, np.newaxis])\n",
    "\n",
    "for xi in range(len(Xraw)):\n",
    "    max_y = max(y[xi],yp[xi])\n",
    "    min_y = min(y[xi],yp[xi])\n",
    "    plt.vlines(x=Xraw[xi], ymin=min_y, ymax=max_y, color = 'black',linestyle=\"--\")\n",
    "    #print(xi,Xraw[xi],y[xi],yp[xi])\n",
    "    \n",
    "plt.savefig('2.3_OLS.png')\n",
    "plt.show()"
   ]
  },
  {
   "cell_type": "code",
   "execution_count": null,
   "id": "2aaf47eb",
   "metadata": {},
   "outputs": [],
   "source": [
    "reg = linear_model.LinearRegression()\n",
    "reg.fit(Xraw[:, np.newaxis],y)\n",
    "\n",
    "X_plot = np.arange(0.0, 4.0, 0.01)[:, np.newaxis]\n",
    "yt = reg.predict(X_plot)\n",
    "\n",
    "plt.figure(figsize=(12,8))\n",
    "plt.scatter(Xraw, y, s=20,  c=\"red\", label=\"data\")\n",
    "plt.plot(X_plot, yt, color=\"blue\",  linewidth=4)\n",
    "plt.plot(Xraw, yraw, color=\"gold\",  linewidth=4, linestyle = '--')\n",
    "\n",
    "\n",
    "plt.savefig('2.4_compare.png')\n",
    "plt.show()"
   ]
  },
  {
   "cell_type": "markdown",
   "id": "14b05758",
   "metadata": {},
   "source": [
    "## 2.2 欠拟合与过拟合"
   ]
  },
  {
   "cell_type": "code",
   "execution_count": null,
   "id": "69ee2a8f",
   "metadata": {},
   "outputs": [],
   "source": [
    "import matplotlib.pyplot as plt\n",
    "import numpy as np\n",
    "import pandas as pd"
   ]
  },
  {
   "cell_type": "code",
   "execution_count": null,
   "id": "972e390c",
   "metadata": {},
   "outputs": [],
   "source": [
    "N_sample = 40\n",
    "max_x = 4\n",
    "max_xe = 5\n",
    "N_plot = max_xe * 100"
   ]
  },
  {
   "cell_type": "code",
   "execution_count": null,
   "id": "c9980031",
   "metadata": {},
   "outputs": [],
   "source": [
    "rng = np.random.RandomState(1)\n",
    "Xraw = np.sort(max_xe * rng.rand(N_sample), axis=0)\n",
    "yraw = np.sin(Xraw).ravel()+0.2*Xraw\n",
    "\n",
    "#生成数据，在三次函数基础上加入噪音\n",
    "yraw = [0.7*float(x)**3-4*float(x)**2+5*float(x)-0.5 for x in Xraw]\n",
    "y = yraw + 3*(0.5 - rng.rand(N_sample))\n",
    "y[::5] += 5 * (0.5 - rng.rand(int(N_sample/5)))\n"
   ]
  },
  {
   "cell_type": "code",
   "execution_count": null,
   "id": "8773b7a7",
   "metadata": {},
   "outputs": [],
   "source": [
    "Xin_len = len(Xraw[Xraw<=max_x])\n",
    "Xin_len"
   ]
  },
  {
   "cell_type": "code",
   "execution_count": null,
   "id": "b5bf3c28",
   "metadata": {
    "scrolled": false
   },
   "outputs": [],
   "source": [
    "plt.figure(figsize=(8,6))\n",
    "plt.scatter(Xraw[Xraw<=max_x], y[Xraw<=max_x], s=20,  c=\"red\", label=\"in_sample\")\n",
    "plt.scatter(Xraw[Xraw>max_x], y[Xraw>max_x], s=20,  c=\"blue\", label=\"out_of_sample\")\n",
    "\n",
    "X_plot = np.arange(0.0, max_xe, 0.01)\n",
    "y_plot = [0.7*float(x)**3-4*float(x)**2+5*float(x)-0.5 for x in X_plot]\n",
    "plt.plot(X_plot, y_plot, color=\"black\",  linewidth=2, label = 'DGP (data generation process)')\n",
    "\n",
    "plt.savefig('1.1_raw_pois.png')\n",
    "plt.legend()\n",
    "plt.show()\n",
    "#打印出来看看"
   ]
  },
  {
   "cell_type": "code",
   "execution_count": null,
   "id": "24bb1130",
   "metadata": {},
   "outputs": [],
   "source": [
    "X = np.zeros((N_sample,10))"
   ]
  },
  {
   "cell_type": "code",
   "execution_count": null,
   "id": "943e7499",
   "metadata": {},
   "outputs": [],
   "source": [
    "for xi in range(10):\n",
    "    X[:,xi] = Xraw**(xi+1)"
   ]
  },
  {
   "cell_type": "code",
   "execution_count": null,
   "id": "1619a73f",
   "metadata": {
    "scrolled": true
   },
   "outputs": [],
   "source": [
    "pd.DataFrame(X[:,:3]).head()"
   ]
  },
  {
   "cell_type": "code",
   "execution_count": null,
   "id": "1e54acdb",
   "metadata": {},
   "outputs": [],
   "source": [
    "from sklearn import linear_model"
   ]
  },
  {
   "cell_type": "code",
   "execution_count": null,
   "id": "78a91e4b",
   "metadata": {},
   "outputs": [],
   "source": [
    "X_plot = np.zeros((N_plot,10))\n",
    "xp = np.arange(0.0, max_xe, 0.01)\n",
    "for xi in range(10):\n",
    "    X_plot[:,xi] = xp**(xi+1)"
   ]
  },
  {
   "cell_type": "code",
   "execution_count": null,
   "id": "faa53fa3",
   "metadata": {},
   "outputs": [],
   "source": [
    "OLS_models = []\n",
    "y_OLS = np.zeros((N_plot,10))\n",
    "for vi in range(1,10):\n",
    "    reg = linear_model.LinearRegression()\n",
    "    reg.fit(X[:Xin_len,:vi],y[:Xin_len])\n",
    "    y_OLS[:,vi] = reg.predict(X_plot[:,:vi])\n",
    "    OLS_models.append(reg)"
   ]
  },
  {
   "cell_type": "code",
   "execution_count": null,
   "id": "65db86f8",
   "metadata": {},
   "outputs": [],
   "source": [
    "yhat_OLS = pd.DataFrame(y_OLS)"
   ]
  },
  {
   "cell_type": "code",
   "execution_count": null,
   "id": "cadf67ec",
   "metadata": {},
   "outputs": [],
   "source": [
    "N_plot_in = int(max_x/max_xe*N_plot)"
   ]
  },
  {
   "cell_type": "code",
   "execution_count": null,
   "id": "2ab08cb2",
   "metadata": {},
   "outputs": [],
   "source": [
    "plt.figure(figsize=(8,6))\n",
    "plt.scatter(Xraw[Xraw<=max_x], y[Xraw<=max_x], s=20,  c=\"red\")\n",
    "#plt.scatter(Xraw[Xraw>max_x], y[Xraw>max_x], s=20,  c=\"blue\", label=\"data\")\n",
    "plt.plot(xp[:N_plot_in], y_OLS[:N_plot_in,2], color=\"green\", label='V2', linewidth=2)\n",
    "plt.plot(xp[:N_plot_in], y_OLS[:N_plot_in,3], color=\"orange\",label='V3',  linewidth=2)\n",
    "plt.plot(xp[:N_plot_in], y_OLS[:N_plot_in,5], color=\"navy\",label='V5',  linewidth=2)\n",
    "#yhat_OLS[[2,4,6,8]].plot()\n",
    "plt.legend()\n",
    "plt.savefig('1.2_insample.png')\n",
    "plt.show()"
   ]
  },
  {
   "cell_type": "code",
   "execution_count": null,
   "id": "411fdf7c",
   "metadata": {},
   "outputs": [],
   "source": [
    "inR = []\n",
    "outR = []\n",
    "for vi in range(len(OLS_models)):\n",
    "    mdi = OLS_models[vi]\n",
    "    inR.append(mdi.score(X[:Xin_len,:vi+1],y[:Xin_len]))\n",
    "    outR.append(mdi.score(X[:,:vi+1],y[:]))"
   ]
  },
  {
   "cell_type": "code",
   "execution_count": null,
   "id": "dab94e08",
   "metadata": {},
   "outputs": [],
   "source": [
    "inR"
   ]
  },
  {
   "cell_type": "code",
   "execution_count": null,
   "id": "3db86af2",
   "metadata": {},
   "outputs": [],
   "source": [
    "outR"
   ]
  },
  {
   "cell_type": "code",
   "execution_count": null,
   "id": "14a640e7",
   "metadata": {},
   "outputs": [],
   "source": [
    "plt.figure(figsize=(8,6))\n",
    "outRp = np.array(outR)\n",
    "outRp[outRp<0]=0\n",
    "plt.plot(np.arange(1,10), inR, color=\"orange\",label='in sample R2',   linewidth=2)\n",
    "plt.plot(np.arange(1,10), outRp, color=\"navy\",label='out of sample R2',   linewidth=2)\n",
    "\n",
    "plt.legend()\n",
    "plt.savefig('1.4_r2.png')\n",
    "plt.show()"
   ]
  },
  {
   "cell_type": "code",
   "execution_count": null,
   "id": "3dbe9fe5",
   "metadata": {},
   "outputs": [],
   "source": [
    "plt.figure(figsize=(8,6))\n",
    "plt.scatter(Xraw[Xraw<=max_x], y[Xraw<=max_x], s=20,  c=\"red\", label=\"in_sample\")\n",
    "plt.scatter(Xraw[Xraw>max_x], y[Xraw>max_x], s=20,  c=\"blue\", label=\"out_of_sample\")\n",
    "plt.plot(xp, y_OLS[:,2], color=\"green\",label='V2',   linewidth=2)\n",
    "plt.plot(xp, y_OLS[:,3], color=\"orange\",label='V3',   linewidth=2)\n",
    "plt.plot(xp, y_OLS[:,5], color=\"navy\",label='V5',   linewidth=2)\n",
    "#yhat_OLS[[2,4,6,8]].plot()\n",
    "plt.legend()\n",
    "plt.savefig('1.3_full.png')\n",
    "plt.show()"
   ]
  },
  {
   "cell_type": "markdown",
   "id": "01b19162",
   "metadata": {},
   "source": [
    "## 2.3 Ridge"
   ]
  },
  {
   "cell_type": "code",
   "execution_count": null,
   "id": "7b81eec1",
   "metadata": {},
   "outputs": [],
   "source": [
    "n_alphas = 200\n",
    "alphas = np.logspace(-1, 5, n_alphas)\n"
   ]
  },
  {
   "cell_type": "code",
   "execution_count": null,
   "id": "e56359bc",
   "metadata": {},
   "outputs": [],
   "source": [
    "ridge_outR = []\n",
    "for a in alphas:\n",
    "    ridge = linear_model.Ridge(alpha=a)\n",
    "    ridge.fit(X[:Xin_len,:],y[:Xin_len])\n",
    "    ridge_outR.append(ridge.score(X,y))"
   ]
  },
  {
   "cell_type": "code",
   "execution_count": null,
   "id": "60995067",
   "metadata": {},
   "outputs": [],
   "source": [
    "from sklearn.datasets import make_regression\n",
    "\n",
    "X, y, w = make_regression(\n",
    "    n_samples=100, n_features=10, n_informative=4, coef=True, random_state=1\n",
    ")\n",
    "w=w/100\n",
    "y_raw = np.dot(X,w)\n",
    "rng = np.random.RandomState(1)\n",
    "\n",
    "y =y_raw+ 2*(0.5 - rng.rand(100))\n",
    "# Obtain the true coefficients\n",
    "print(f\"The true coefficient of this regression problem are:\\n{w}\")"
   ]
  },
  {
   "cell_type": "code",
   "execution_count": null,
   "id": "212594f4",
   "metadata": {},
   "outputs": [],
   "source": [
    "import numpy as np\n",
    "\n",
    "from sklearn.linear_model import Ridge\n",
    "from sklearn.metrics import mean_squared_error\n",
    "\n",
    "clf = Ridge()\n",
    "\n",
    "# Generate values for `alpha` that are evenly distributed on a logarithmic scale\n",
    "alphas = np.logspace(-1, 4, 200)\n",
    "coefs = []\n",
    "errors_coefs = []\n",
    "\n",
    "# Train the model with different regularisation strengths\n",
    "for a in alphas:\n",
    "    clf.set_params(alpha=a).fit(X, y)\n",
    "    coefs.append(clf.coef_)\n",
    "    errors_coefs.append(mean_squared_error(clf.coef_, w))"
   ]
  },
  {
   "cell_type": "code",
   "execution_count": null,
   "id": "aa71154a",
   "metadata": {},
   "outputs": [],
   "source": [
    "import matplotlib.pyplot as plt\n",
    "import pandas as pd\n",
    "\n",
    "alphas = pd.Index(alphas, name=\"alpha\")\n",
    "coefs = pd.DataFrame(coefs, index=alphas, columns=[f\"Feature {i}\" for i in range(10)])\n",
    "errors = pd.Series(errors_coefs, index=alphas, name=\"Mean squared error\")\n",
    "\n",
    "fig, axs = plt.subplots(1, 2, figsize=(20, 6))\n",
    "\n",
    "coefs.plot(\n",
    "    ax=axs[0],\n",
    "    logx=True,\n",
    "    title=\"Ridge coefficients as a function of the regularization strength\",\n",
    ")\n",
    "axs[0].set_ylabel(\"Ridge coefficient values\")\n",
    "errors.plot(\n",
    "    ax=axs[1],\n",
    "    logx=True,\n",
    "    title=\"Coefficient error as a function of the regularization strength\",\n",
    ")\n",
    "_ = axs[1].set_ylabel(\"Mean squared error\")"
   ]
  },
  {
   "cell_type": "markdown",
   "id": "01a2f212",
   "metadata": {},
   "source": [
    "## 2.4 Lasso"
   ]
  },
  {
   "cell_type": "code",
   "execution_count": null,
   "id": "1a9d7749",
   "metadata": {},
   "outputs": [],
   "source": [
    "import numpy as np\n",
    "\n",
    "from sklearn.linear_model import Ridge\n",
    "from sklearn.metrics import mean_squared_error\n",
    "from sklearn.linear_model import Lasso\n",
    "\n",
    "clf = Lasso()\n",
    "\n",
    "# Generate values for `alpha` that are evenly distributed on a logarithmic scale\n",
    "alphas = np.logspace(-2, 2, 200)\n",
    "coefs = []\n",
    "errors_coefs = []\n",
    "\n",
    "# Train the model with different regularisation strengths\n",
    "for a in alphas:\n",
    "    clf.set_params(alpha=a).fit(X, y)\n",
    "    coefs.append(clf.coef_)\n",
    "    errors_coefs.append(mean_squared_error(clf.coef_, w))"
   ]
  },
  {
   "cell_type": "code",
   "execution_count": null,
   "id": "c4208171",
   "metadata": {},
   "outputs": [],
   "source": [
    "import matplotlib.pyplot as plt\n",
    "import pandas as pd\n",
    "\n",
    "alphas = pd.Index(alphas, name=\"alpha\")\n",
    "coefs = pd.DataFrame(coefs, index=alphas, columns=[f\"Feature {i}\" for i in range(10)])\n",
    "errors = pd.Series(errors_coefs, index=alphas, name=\"Mean squared error\")\n",
    "\n",
    "fig, axs = plt.subplots(1, 2, figsize=(20, 6))\n",
    "\n",
    "coefs.plot(\n",
    "    ax=axs[0],\n",
    "    logx=True,\n",
    "    title=\"Lasso coefficients as a function of the regularization strength\",\n",
    ")\n",
    "axs[0].set_ylabel(\"Lasso coefficient values\")\n",
    "errors.plot(\n",
    "    ax=axs[1],\n",
    "    logx=True,\n",
    "    title=\"Coefficient error as a function of the regularization strength\",\n",
    ")\n",
    "_ = axs[1].set_ylabel(\"Mean squared error\")"
   ]
  }
 ],
 "metadata": {
  "kernelspec": {
   "display_name": "Python 3 (ipykernel)",
   "language": "python",
   "name": "python3"
  },
  "language_info": {
   "codemirror_mode": {
    "name": "ipython",
    "version": 3
   },
   "file_extension": ".py",
   "mimetype": "text/x-python",
   "name": "python",
   "nbconvert_exporter": "python",
   "pygments_lexer": "ipython3",
   "version": "3.11.5"
  }
 },
 "nbformat": 4,
 "nbformat_minor": 5
}
