{
 "cells": [
  {
   "cell_type": "markdown",
   "id": "a4da2d3c",
   "metadata": {},
   "source": [
    "# 6 梯度下降树"
   ]
  },
  {
   "cell_type": "code",
   "execution_count": null,
   "id": "2c26b832",
   "metadata": {},
   "outputs": [],
   "source": []
  },
  {
   "cell_type": "code",
   "execution_count": null,
   "id": "d7c48039",
   "metadata": {},
   "outputs": [],
   "source": [
    "import matplotlib.pyplot as plt\n",
    "import numpy as np\n",
    "\n",
    "from sklearn import datasets, ensemble\n",
    "from sklearn.metrics import log_loss\n",
    "from sklearn.model_selection import train_test_split\n"
   ]
  },
  {
   "cell_type": "code",
   "execution_count": null,
   "id": "ea000396",
   "metadata": {},
   "outputs": [],
   "source": [
    "#制作ESL 10.2的数据\n",
    "X, y = datasets.make_hastie_10_2(n_samples=4000, random_state=1)\n",
    "\n",
    "labels, y = np.unique(y, return_inverse=True)\n",
    "\n",
    "X_train, X_test, y_train, y_test = train_test_split(X, y, test_size=0.8, random_state=0)"
   ]
  },
  {
   "cell_type": "code",
   "execution_count": null,
   "id": "76b5789c",
   "metadata": {},
   "outputs": [],
   "source": [
    "len(y[y==1])"
   ]
  },
  {
   "cell_type": "markdown",
   "id": "4b2a09f9",
   "metadata": {},
   "source": [
    "## 6.1 AdaBoost ESL 10.2"
   ]
  },
  {
   "cell_type": "code",
   "execution_count": null,
   "id": "e8a26f0f",
   "metadata": {},
   "outputs": [],
   "source": [
    "#AdaBoosting\n",
    "from sklearn.ensemble import AdaBoostClassifier\n",
    "from sklearn.tree import DecisionTreeClassifier\n",
    "\n",
    "n_estimators = 1000\n",
    "\n",
    "#树模型，一个不加限制的决策树\n",
    "tree_learner = DecisionTreeClassifier()\n",
    "\n",
    "#AdaBoost 使用的模型是两个叶子节点的决策树\n",
    "adaboost_clf = AdaBoostClassifier(\n",
    "    estimator=DecisionTreeClassifier(max_leaf_nodes=2), #超参数在这里\n",
    "    n_estimators=n_estimators,\n",
    "    algorithm=\"SAMME\",\n",
    "    random_state=42,\n",
    ").fit(X_train, y_train)\n",
    "\n",
    "#AdaBoost 使用的模型是20个叶子节点的决策树\n",
    "adaboost_clf_fg = AdaBoostClassifier(\n",
    "    estimator=DecisionTreeClassifier(max_leaf_nodes=20), #超参数在这里\n",
    "    n_estimators=n_estimators,\n",
    "    algorithm=\"SAMME\",\n",
    "    random_state=42,\n",
    ").fit(X_train, y_train)"
   ]
  },
  {
   "cell_type": "code",
   "execution_count": null,
   "id": "2a5098d9",
   "metadata": {},
   "outputs": [],
   "source": [
    "#单节点\n",
    "from sklearn.metrics import accuracy_score\n",
    "\n",
    "dummy_clf = DecisionTreeClassifier(max_leaf_nodes=2)"
   ]
  },
  {
   "cell_type": "code",
   "execution_count": null,
   "id": "af60e010",
   "metadata": {},
   "outputs": [],
   "source": [
    "from sklearn.ensemble import RandomForestClassifier"
   ]
  },
  {
   "cell_type": "code",
   "execution_count": null,
   "id": "f29ed363",
   "metadata": {},
   "outputs": [],
   "source": [
    "#随机森林，有1000棵树组成\n",
    "rf = RandomForestClassifier(n_estimators=1000,  random_state=0,max_features='sqrt')"
   ]
  },
  {
   "cell_type": "code",
   "execution_count": null,
   "id": "25a021cb",
   "metadata": {},
   "outputs": [],
   "source": [
    "def misclassification_error(y_true, y_pred):\n",
    "    return 1 - accuracy_score(y_true, y_pred)"
   ]
  },
  {
   "cell_type": "code",
   "execution_count": null,
   "id": "467868d7",
   "metadata": {},
   "outputs": [],
   "source": [
    "#一棵不限制决策树的分类器\n",
    "tree_learner_misclassification_error = misclassification_error(\n",
    "    y_test, tree_learner.fit(X_train, y_train).predict(X_test)\n",
    ")\n",
    "\n",
    "#一课限制2叶子节点的分类器\n",
    "dummy_classifiers_misclassification_error = misclassification_error(\n",
    "    y_test, dummy_clf.fit(X_train, y_train).predict(X_test)\n",
    ")\n",
    "\n",
    "#1000棵树组成的随机深林\n",
    "rf_classifiers_misclassification_error = misclassification_error(\n",
    "    y_test, rf.fit(X_train, y_train).predict(X_test)\n",
    ")\n",
    "\n",
    "print(\n",
    "    \"DecisionTreeClassifier's misclassification_error: \"\n",
    "    f\"{tree_learner_misclassification_error:.3f}\"\n",
    ")\n",
    "print(\n",
    "    \"DummyClassifier's misclassification_error: \"\n",
    "    f\"{dummy_classifiers_misclassification_error:.3f}\"\n",
    ")\n",
    "\n",
    "print(\n",
    "    \"Random Forrest's misclassification_error: \"\n",
    "    f\"{rf_classifiers_misclassification_error:.3f}\"\n",
    ")"
   ]
  },
  {
   "cell_type": "code",
   "execution_count": null,
   "id": "d5568d47",
   "metadata": {},
   "outputs": [],
   "source": [
    "import matplotlib.pyplot as plt\n",
    "import pandas as pd\n",
    "\n",
    "#保存梯度下降树随树的数目增加而变动的表现\n",
    "boosting_errors = pd.DataFrame(\n",
    "    {\n",
    "        \"Number of trees\": range(1, n_estimators + 1),\n",
    "        \"AdaBoost_T2\": [\n",
    "            misclassification_error(y_test, y_pred)\n",
    "            for y_pred in adaboost_clf.staged_predict(X_test)\n",
    "        ],\n",
    "        \"AdaBoost_T20\": [\n",
    "            misclassification_error(y_test, y_pred)\n",
    "            for y_pred in adaboost_clf_fg.staged_predict(X_test)\n",
    "        ],\n",
    "    }\n",
    ").set_index(\"Number of trees\")\n",
    "\n"
   ]
  },
  {
   "cell_type": "code",
   "execution_count": null,
   "id": "766be385",
   "metadata": {},
   "outputs": [],
   "source": [
    "boosting_errors = boosting_errors['AdaBoost_T2']"
   ]
  },
  {
   "cell_type": "code",
   "execution_count": null,
   "id": "a4eeada1",
   "metadata": {},
   "outputs": [],
   "source": [
    "\n",
    "\n",
    "\n",
    "ax = boosting_errors.plot(figsize=(10,8))\n",
    "ax.set_ylabel(\"Misclassification error on test set\")\n",
    "ax.set_title(\"Convergence of AdaBoost algorithm\")\n",
    "\n",
    "plt.plot(\n",
    "    [boosting_errors.index.min(), boosting_errors.index.max()],\n",
    "    [tree_learner_misclassification_error, tree_learner_misclassification_error],\n",
    "    color=\"tab:orange\",\n",
    "    linestyle=\"dashed\",\n",
    ")\n",
    "plt.plot(\n",
    "    [boosting_errors.index.min(), boosting_errors.index.max()],\n",
    "    [rf_classifiers_misclassification_error, rf_classifiers_misclassification_error],\n",
    "    color=\"tab:red\",\n",
    "    linestyle=\"dashed\",\n",
    ")\n",
    "plt.plot(\n",
    "    [boosting_errors.index.min(), boosting_errors.index.max()],\n",
    "    [\n",
    "        dummy_classifiers_misclassification_error,\n",
    "        dummy_classifiers_misclassification_error,\n",
    "    ],\n",
    "    color=\"c\",\n",
    "    linestyle=\"dotted\",\n",
    ")\n",
    "plt.legend([\"AdaBoost_T2\", \"AdaBoost_T20\", \"DecisionTreeClassifier\", \"Random Forest 1000 Trees\",\"DummyClassifier\"], loc=1)\n",
    "\n",
    "plt.show()"
   ]
  },
  {
   "cell_type": "code",
   "execution_count": null,
   "id": "c680f03d",
   "metadata": {},
   "outputs": [],
   "source": [
    "from sklearn.tree import plot_tree\n",
    "#导入决策树画图类\n",
    "\n",
    "plt.figure(figsize=(8,8))\n",
    "plot_tree(tree_learner, filled=True)\n",
    "plt.title(\"Decision tree\")\n",
    "plt.show()"
   ]
  },
  {
   "cell_type": "markdown",
   "id": "c0d69a2b",
   "metadata": {},
   "source": [
    "## 6.2 GBDT nodes数量"
   ]
  },
  {
   "cell_type": "code",
   "execution_count": null,
   "id": "a1796d09",
   "metadata": {},
   "outputs": [],
   "source": [
    "from sklearn.ensemble import GradientBoostingClassifier"
   ]
  },
  {
   "cell_type": "code",
   "execution_count": null,
   "id": "c14ae724",
   "metadata": {},
   "outputs": [],
   "source": []
  },
  {
   "cell_type": "code",
   "execution_count": null,
   "id": "2d429cc0",
   "metadata": {},
   "outputs": [],
   "source": [
    "GBDT_2 = GradientBoostingClassifier(n_estimators=1000,max_leaf_nodes=2,learning_rate=0.1).fit(X_train, y_train)\n",
    "\n",
    "GBDT_10 = GradientBoostingClassifier(n_estimators=1000,max_leaf_nodes=10,learning_rate=0.1).fit(X_train, y_train)\n",
    "\n",
    "GBDT_100 = GradientBoostingClassifier(n_estimators=1000,max_leaf_nodes=100,learning_rate=0.1).fit(X_train, y_train)"
   ]
  },
  {
   "cell_type": "code",
   "execution_count": null,
   "id": "0b904257",
   "metadata": {},
   "outputs": [],
   "source": [
    "GBDT_errors = pd.DataFrame(\n",
    "    {\n",
    "        \"Number of trees\": range(1, n_estimators + 1),\n",
    "        \"AdaBoost\": [\n",
    "            misclassification_error(y_test, y_pred)\n",
    "            for y_pred in adaboost_clf.staged_predict(X_test)\n",
    "        ],\n",
    "        \"GBDT 2\": [\n",
    "            misclassification_error(y_test, y_pred)\n",
    "            for y_pred in GBDT_2.staged_predict(X_test)\n",
    "        ],\n",
    "        \"GBDT 10\": [\n",
    "            misclassification_error(y_test, y_pred)\n",
    "            for y_pred in GBDT_10.staged_predict(X_test)\n",
    "        ],\n",
    "        \"GBDT 100\": [\n",
    "            misclassification_error(y_test, y_pred)\n",
    "            for y_pred in GBDT_100.staged_predict(X_test)\n",
    "        ],\n",
    "    }\n",
    ").set_index(\"Number of trees\")"
   ]
  },
  {
   "cell_type": "code",
   "execution_count": null,
   "id": "eb278743",
   "metadata": {},
   "outputs": [],
   "source": [
    "\n",
    "\n",
    "\n",
    "ax = GBDT_errors.plot(figsize=(10,8))\n",
    "ax.set_ylabel(\"Misclassification error on test set\")\n",
    "ax.set_title(\"Convergence of AdaBoost algorithm\")\n",
    "\n",
    "\n",
    "plt.legend([\"AdaBoost\", \"GBDT Node=2\",\"GBDT Node=10\", \"GBDT Node=100\"], loc=1)\n",
    "\n",
    "plt.show()"
   ]
  },
  {
   "cell_type": "markdown",
   "id": "881d236c",
   "metadata": {},
   "source": [
    "## 6.3 GBDT的正则化"
   ]
  },
  {
   "cell_type": "code",
   "execution_count": null,
   "id": "ce88f77f",
   "metadata": {},
   "outputs": [],
   "source": [
    "original_params = {\n",
    "    \"n_estimators\": 400,\n",
    "    \"max_leaf_nodes\": 4,\n",
    "    \"max_depth\": None,\n",
    "    \"random_state\": 2,\n",
    "    \"min_samples_split\": 5,\n",
    "}\n",
    "\n",
    "plt.figure(figsize=(10,8))\n",
    "\n",
    "for label, color, setting in [\n",
    "    (\"No shrinkage\", \"orange\", {\"learning_rate\": 1.0, \"subsample\": 1.0}),\n",
    "    (\"learning_rate=0.2\", \"turquoise\", {\"learning_rate\": 0.2, \"subsample\": 1.0}),\n",
    "    (\"subsample=0.5\", \"blue\", {\"learning_rate\": 1.0, \"subsample\": 0.5}),\n",
    "    (\n",
    "        \"learning_rate=0.2, subsample=0.5\",\n",
    "        \"gray\",\n",
    "        {\"learning_rate\": 0.2, \"subsample\": 0.5},\n",
    "    ),\n",
    "    (\n",
    "        \"learning_rate=0.2, max_features=2\",\n",
    "        \"magenta\",\n",
    "        {\"learning_rate\": 0.2, \"max_features\": 2},\n",
    "    ),\n",
    "]:\n",
    "    params = dict(original_params)\n",
    "    params.update(setting)\n",
    "\n",
    "    clf = ensemble.GradientBoostingClassifier(**params)\n",
    "    clf.fit(X_train, y_train)\n",
    "\n",
    "    # compute test set deviance\n",
    "    test_deviance = np.zeros((params[\"n_estimators\"],), dtype=np.float64)\n",
    "\n",
    "    for i, y_proba in enumerate(clf.staged_predict_proba(X_test)):\n",
    "        test_deviance[i] = 2 * log_loss(y_test, y_proba[:, 1])\n",
    "\n",
    "    plt.plot(\n",
    "        (np.arange(test_deviance.shape[0]) + 1)[::5],\n",
    "        test_deviance[::5],\n",
    "        \"-\",\n",
    "        color=color,\n",
    "        label=label,\n",
    "    )\n",
    "\n",
    "plt.legend(loc=\"upper right\")\n",
    "plt.xlabel(\"Boosting Iterations\")\n",
    "plt.ylabel(\"Test Set Deviance\")\n",
    "\n",
    "plt.show()"
   ]
  },
  {
   "cell_type": "code",
   "execution_count": null,
   "id": "98049903",
   "metadata": {},
   "outputs": [],
   "source": []
  },
  {
   "cell_type": "code",
   "execution_count": null,
   "id": "14a05ae8",
   "metadata": {},
   "outputs": [],
   "source": []
  }
 ],
 "metadata": {
  "kernelspec": {
   "display_name": "Python 3 (ipykernel)",
   "language": "python",
   "name": "python3"
  },
  "language_info": {
   "codemirror_mode": {
    "name": "ipython",
    "version": 3
   },
   "file_extension": ".py",
   "mimetype": "text/x-python",
   "name": "python",
   "nbconvert_exporter": "python",
   "pygments_lexer": "ipython3",
   "version": "3.11.5"
  }
 },
 "nbformat": 4,
 "nbformat_minor": 5
}
