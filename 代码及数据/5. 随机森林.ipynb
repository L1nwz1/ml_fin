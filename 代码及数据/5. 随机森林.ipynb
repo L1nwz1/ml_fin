{
 "cells": [
  {
   "cell_type": "markdown",
   "id": "f7433b24",
   "metadata": {},
   "source": [
    "# 5.随机森林"
   ]
  },
  {
   "cell_type": "markdown",
   "id": "f4a2d0bc",
   "metadata": {},
   "source": [
    "## 5.1 分类问题"
   ]
  },
  {
   "cell_type": "code",
   "execution_count": null,
   "id": "5e455ed6",
   "metadata": {},
   "outputs": [],
   "source": [
    "import matplotlib.pyplot as plt\n",
    "import numpy as np\n",
    "import pandas as pd"
   ]
  },
  {
   "cell_type": "code",
   "execution_count": null,
   "id": "8ff45561",
   "metadata": {},
   "outputs": [],
   "source": [
    "rng = np.random.RandomState(1)\n",
    "#通过使用randomstate来保证随机结果的可复现\n",
    "X = 10*rng.rand(100,2)\n",
    "y_val = np.dot(X,[1.5,1])"
   ]
  },
  {
   "cell_type": "code",
   "execution_count": null,
   "id": "965cfb27",
   "metadata": {},
   "outputs": [],
   "source": [
    "y = np.zeros(100)\n",
    "y[y_val>y_val.mean()] = 1\n",
    "y = y.astype(int)\n",
    "y[::20] = 1-y[::20] "
   ]
  },
  {
   "cell_type": "code",
   "execution_count": null,
   "id": "b4cebfac",
   "metadata": {},
   "outputs": [],
   "source": [
    "plt.figure(figsize=(6,6))\n",
    "plt.scatter(X[y>0.5, 0], X[y>0.5, 1], c='red')\n",
    "plt.scatter(X[y<0.5, 0], X[y<0.5, 1], c='blue')"
   ]
  },
  {
   "cell_type": "code",
   "execution_count": null,
   "id": "010c8e0b",
   "metadata": {},
   "outputs": [],
   "source": [
    "from sklearn.ensemble import RandomForestClassifier\n",
    "#随机森林分类器\n",
    "from sklearn.model_selection import cross_val_score\n",
    "#用于计算样本外误差的cross validation\n",
    "from sklearn.inspection import DecisionBoundaryDisplay\n",
    "#导入决策树绘图，导入出错的建议更新版本，更新方式建议直接重装anaconda"
   ]
  },
  {
   "cell_type": "code",
   "execution_count": null,
   "id": "367233ae",
   "metadata": {},
   "outputs": [],
   "source": [
    "num_trees = [1,2,3,4,5,7,10,15,20,30,40,50,75,100,125,150]\n",
    "#训练不同规模的森林"
   ]
  },
  {
   "cell_type": "code",
   "execution_count": null,
   "id": "1f0a0805",
   "metadata": {},
   "outputs": [],
   "source": [
    "rf_eval = []\n",
    "for ntr in num_trees:\n",
    "    clf = RandomForestClassifier(n_estimators=ntr, max_depth=2, random_state=0)\n",
    "    #训练模型\n",
    "    scores = cross_val_score(clf, X, y, cv=5)\n",
    "    #计算样本外（通过cross validation计算）\n",
    "    clf.fit(X,y)\n",
    "    \n",
    "    DecisionBoundaryDisplay.from_estimator(\n",
    "        clf,\n",
    "        X,\n",
    "        response_method=\"predict\",\n",
    "        alpha=0.5, \n",
    "        cmap=plt.cm.coolwarm\n",
    "    )\n",
    "    #画图，和上面的决策树很像 \n",
    "    \n",
    "    plt.scatter(X[y>0.5, 0], X[y>0.5, 1], c='red')\n",
    "    plt.scatter(X[y<0.5, 0], X[y<0.5, 1], c='blue')\n",
    "    plt.title('Random Forest with '+str(ntr)+' trees')\n",
    "    plt.savefig('RF_'+str(ntr)+'.png')\n",
    "    #画图 保存\n",
    "    rf_eval.append(scores.mean())\n",
    "    #保存样本外误差"
   ]
  },
  {
   "cell_type": "code",
   "execution_count": null,
   "id": "bc781703",
   "metadata": {},
   "outputs": [],
   "source": [
    "cv5_ac = pd.DataFrame({'cv5_ac':rf_eval},index=num_trees)"
   ]
  },
  {
   "cell_type": "code",
   "execution_count": null,
   "id": "be0864d8",
   "metadata": {},
   "outputs": [],
   "source": [
    "cv5_ac.plot(figsize=(12,8))\n",
    "plt.xlabel('number of Trees')\n",
    "plt.ylabel('5-fold cross validation accuration');\n",
    "#画随机森林的图"
   ]
  },
  {
   "cell_type": "markdown",
   "id": "fe8be607",
   "metadata": {},
   "source": [
    "## 5.2 随机森林用于回归"
   ]
  },
  {
   "cell_type": "code",
   "execution_count": null,
   "id": "b46293f7",
   "metadata": {},
   "outputs": [],
   "source": [
    "from sklearn.ensemble import RandomForestRegressor"
   ]
  },
  {
   "cell_type": "code",
   "execution_count": null,
   "id": "8b462d96",
   "metadata": {},
   "outputs": [],
   "source": [
    "rng = np.random.RandomState(1)\n",
    "X_5 = 10*rng.rand(500,5)\n",
    "X_20 = 10*rng.rand(500,20)\n",
    "X_50 = 10*rng.rand(500,50)"
   ]
  },
  {
   "cell_type": "code",
   "execution_count": null,
   "id": "e5035ebf",
   "metadata": {},
   "outputs": [],
   "source": [
    "weight_l = []\n",
    "for li in range(50):\n",
    "    weight_l.append(0.95**li)\n",
    "weight_l"
   ]
  },
  {
   "cell_type": "code",
   "execution_count": null,
   "id": "8044f89b",
   "metadata": {},
   "outputs": [],
   "source": [
    "y_5 = np.dot(X_5,weight_l[:5])\n",
    "y_20 = np.dot(X_20,weight_l[:20])\n",
    "y_50 = np.dot(X_50,weight_l[:50])\n",
    "#生成数据"
   ]
  },
  {
   "cell_type": "code",
   "execution_count": null,
   "id": "e73de895",
   "metadata": {},
   "outputs": [],
   "source": [
    "y_5[::5] +=0.5*y_5.mean()*(0.5-rng.rand(100))\n",
    "y_20[::5] +=0.5*y_20.mean()*(0.5-rng.rand(100))\n",
    "y_50[::5] +=0.5*y_50.mean()*(0.5-rng.rand(100))\n",
    "#在数据上面加噪音"
   ]
  },
  {
   "cell_type": "code",
   "execution_count": null,
   "id": "2838f7e6",
   "metadata": {},
   "outputs": [],
   "source": [
    "train_sp = 400\n",
    "#数据生成、训练、测试分割同上"
   ]
  },
  {
   "cell_type": "code",
   "execution_count": null,
   "id": "c082f0c0",
   "metadata": {},
   "outputs": [],
   "source": [
    "#需要一些时间\n",
    "rf_regs_5 = []\n",
    "rf_regs_20 = []\n",
    "rf_regs_50 = []\n",
    "for dpi in range(1,20):\n",
    "    print(dpi)\n",
    "    rf_reg_5 = RandomForestRegressor(n_estimators=50*dpi,  random_state=0,max_features='sqrt')\n",
    "    #注意random_state，算法开始走向随机。注意max_features\n",
    "    rf_reg_5.fit(X_5[:train_sp],y_5[:train_sp])\n",
    "    rf_regs_5.append(rf_reg_5)\n",
    "    \n",
    "    rf_reg_20 = RandomForestRegressor(n_estimators=50*dpi, random_state=0,max_features='sqrt')\n",
    "    rf_reg_20.fit(X_20[:train_sp],y_20[:train_sp])\n",
    "    rf_regs_20.append(rf_reg_20)\n",
    "    \n",
    "    rf_reg_50 = RandomForestRegressor(n_estimators=50*dpi,  random_state=0,max_features='sqrt')\n",
    "    rf_reg_50.fit(X_50[:train_sp],y_50[:train_sp])\n",
    "    rf_regs_50.append(rf_reg_50)"
   ]
  },
  {
   "cell_type": "code",
   "execution_count": null,
   "id": "24855c00",
   "metadata": {},
   "outputs": [],
   "source": [
    "tr_scores_5 = [clf.score(X_5[:train_sp],y_5[:train_sp]) for clf in rf_regs_5]\n",
    "test_scores_5 = [clf.score(X_5[train_sp:],y_5[train_sp:]) for clf in rf_regs_5]\n",
    "\n",
    "tr_scores_20 = [clf.score(X_20[:train_sp],y_20[:train_sp]) for clf in rf_regs_20]\n",
    "test_scores_20 = [clf.score(X_20[train_sp:],y_20[train_sp:]) for clf in rf_regs_20]\n",
    "\n",
    "tr_scores_50 = [clf.score(X_50[:train_sp],y_50[:train_sp]) for clf in rf_regs_50]\n",
    "test_scores_50 = [clf.score(X_50[train_sp:],y_50[train_sp:]) for clf in rf_regs_50]"
   ]
  },
  {
   "cell_type": "code",
   "execution_count": null,
   "id": "dd985049",
   "metadata": {},
   "outputs": [],
   "source": [
    "ntress = [ii*50 for ii in range(1,20)]"
   ]
  },
  {
   "cell_type": "code",
   "execution_count": null,
   "id": "4cf1e4ac",
   "metadata": {},
   "outputs": [],
   "source": [
    "rf_scores = {'v5_train':tr_scores_5,'v5_test':test_scores_5,'v20_train':tr_scores_20,'v20_test':test_scores_20,'v50_train':tr_scores_50,'v50_test':test_scores_50}\n",
    "rf_sc_df = pd.DataFrame(rf_scores,index=ntress)"
   ]
  },
  {
   "cell_type": "code",
   "execution_count": null,
   "id": "a1d14e80",
   "metadata": {},
   "outputs": [],
   "source": [
    "rf_sc_df.plot(figsize=(10,6))\n",
    "plt.fontsize=24\n",
    "plt.xlabel('number of Trees')\n",
    "plt.ylabel('accurate_ratio');\n",
    "#这个图和课件上的不一样，是因为我在做课件时限制了森林中的树的max_depth=4,虽然这个限制很宽松，但对比看看结果，RF需要正则化么？"
   ]
  },
  {
   "cell_type": "code",
   "execution_count": null,
   "id": "41fce3a1",
   "metadata": {},
   "outputs": [],
   "source": []
  }
 ],
 "metadata": {
  "kernelspec": {
   "display_name": "Python 3 (ipykernel)",
   "language": "python",
   "name": "python3"
  },
  "language_info": {
   "codemirror_mode": {
    "name": "ipython",
    "version": 3
   },
   "file_extension": ".py",
   "mimetype": "text/x-python",
   "name": "python",
   "nbconvert_exporter": "python",
   "pygments_lexer": "ipython3",
   "version": "3.11.5"
  }
 },
 "nbformat": 4,
 "nbformat_minor": 5
}
